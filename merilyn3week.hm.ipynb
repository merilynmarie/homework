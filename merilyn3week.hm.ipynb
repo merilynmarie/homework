{
 "cells": [
  {
   "cell_type": "code",
   "execution_count": 48,
   "metadata": {},
   "outputs": [],
   "source": [
    "#Homework 3\n",
    "#MerilynG\n",
    "\n"
   ]
  },
  {
   "cell_type": "markdown",
   "metadata": {},
   "source": [
    "1. What is an algorithm? \n",
    "-A list of step by step instruction to solve a problem."
   ]
  },
  {
   "cell_type": "markdown",
   "metadata": {},
   "source": [
    "2. Variable names may not start with cetain charaters - name two. "
   ]
  },
  {
   "cell_type": "markdown",
   "metadata": {},
   "source": [
    "3. What is Semantic error?"
   ]
  },
  {
   "cell_type": "markdown",
   "metadata": {},
   "source": [
    "4. What is the #1 rule of coding/ debugging?"
   ]
  },
  {
   "cell_type": "markdown",
   "metadata": {},
   "source": [
    "5. List 5 Python reserved words."
   ]
  },
  {
   "cell_type": "code",
   "execution_count": 49,
   "metadata": {},
   "outputs": [],
   "source": [
    "# Merilyn\n",
    "# My favorite food is pizza\n",
    "# My dream job is doing something that helps people"
   ]
  },
  {
   "cell_type": "code",
   "execution_count": 50,
   "metadata": {},
   "outputs": [
    {
     "name": "stdout",
     "output_type": "stream",
     "text": [
      "My name is Merilyn,\n",
      "I am 30years old.\n",
      "My favorite food is Pizza.\n",
      "My dream job is doing something that helps people.\n",
      "When doing this job it makes me feel Happy.\n",
      "This is a little about me.\n",
      "26\n",
      "3\n"
     ]
    }
   ],
   "source": [
    "Name = \"Merilyn\"\n",
    "Age = \"30\"\n",
    "Favorite_Food = \"Pizza\" \n",
    "Job = \"doing something that helps people\"\n",
    "Feeling = \"Happy\"\n",
    "print(\"My name is \" + Name +\",\")\n",
    "print(\"I am \" + Age + \"years old.\")\n",
    "print(\"My favorite food is \" + Favorite_Food +\".\")\n",
    "print(\"My dream job is \" + Job + \".\")\n",
    "print(\"When doing this job it makes me feel \" + Feeling +\".\")\n",
    "phrase = \"This is a little about me.\"\n",
    "print(phrase)\n",
    "print(len(phrase))\n",
    "print(phrase.index(\"s\"))\n",
    "\n",
    "\n"
   ]
  },
  {
   "cell_type": "code",
   "execution_count": 51,
   "metadata": {},
   "outputs": [
    {
     "name": "stdout",
     "output_type": "stream",
     "text": [
      "Learning Data Analytics and Python is Awesome!\n",
      "Learn\n",
      " Python is Awesome\n",
      "Learning Data Analytics and Python is great!\n"
     ]
    }
   ],
   "source": [
    "savvy = \"Learning Data Analytics and Python is Awesome!\"\n",
    "print(savvy)\n",
    "print(savvy[0:5]), print(savvy[27:45])\n",
    "savvy = savvy.replace(\"Awesome\",\"great\")\n",
    "print(savvy)\n",
    "\n"
   ]
  },
  {
   "cell_type": "code",
   "execution_count": 52,
   "metadata": {},
   "outputs": [
    {
     "name": "stdout",
     "output_type": "stream",
     "text": [
      "Hi my name is merilyn, I am 5'5 and 30 old today.\n",
      "30.0\n"
     ]
    }
   ],
   "source": [
    "name = \"merilyn\"\n",
    "age = \"30\"\n",
    "height = \"5'5\"\n",
    "miniBio = \"Hi my name is \" + name +\", I am \" +height+ \" and \" +age+ \" old today.\"\n",
    "print(miniBio)\n",
    "print(float(age))"
   ]
  },
  {
   "cell_type": "code",
   "execution_count": 53,
   "metadata": {},
   "outputs": [
    {
     "name": "stdout",
     "output_type": "stream",
     "text": [
      "4\n",
      "4\n",
      "4\n",
      "['wings']\n",
      "['burger', 'steak', 'shrimp', 'lamb_chops'] ['wings', 'salad']\n",
      "['alex', 'jessie', 'joe', 'lia', 'lilly']\n",
      "['cheesecake', 'icecream', 'pie', 'lava_cake'] ['alex', 'jessie', 'joe', 'lia', 'lilly']\n",
      "(['burger', 'steak', 'shrimp', 'lamb_chops'], ['cheesecake', 'icecream', 'pie', 'lava_cake'])\n"
     ]
    }
   ],
   "source": [
    "starters = [\"wings\", \"salad\", \"loaded_fries\"]\n",
    "dinner = [\"burger\", \"steak\", \"lobster\"]\n",
    "dessert = [\"cheesecake\", \"icecream\", \"pie\"]\n",
    "dinner[2]=\"shrimp\"\n",
    "starters.append(\"egg_rolls\")\n",
    "dessert.append(\"lava_cake\")\n",
    "dinner.append(\"lamb_chops\")\n",
    "print(len(starters))\n",
    "print(len(dinner))\n",
    "print(len(dessert))\n",
    "print(starters[:1])\n",
    "print(dinner,starters[:2] )\n",
    "simList = [\"lilly\", \"alex\", \"jessie\", \"lia\", \"joe\"]\n",
    "# sorting the list in ascending order\n",
    "simList.sort()\n",
    "print(simList)\n",
    "print(dessert, simList)\n",
    "combo_meal = (dinner, dessert)\n",
    "print(combo_meal)"
   ]
  },
  {
   "cell_type": "code",
   "execution_count": 54,
   "metadata": {},
   "outputs": [
    {
     "name": "stdout",
     "output_type": "stream",
     "text": [
      "(2, 4, 6, 8, 10, 2, 4, 6, 8, 10, 2, 4, 6, 8, 10)\n",
      "6\n",
      "[2, 2, 2, 4, 4, 4, 6, 6, 6, 8, 8, 8, 10, 10, 10]\n"
     ]
    }
   ],
   "source": [
    "\n",
    "tup_one = (2,4,6,8,10)\n",
    "tup_two = tup_one*3\n",
    "print(tup_two)\n",
    "print(tup_two[12])\n",
    "tup_two = tup_one*3\n",
    "new_list = list(tup_two)\n",
    "new_list.sort()\n",
    "print(new_list)\n",
    "\n"
   ]
  },
  {
   "cell_type": "code",
   "execution_count": 55,
   "metadata": {},
   "outputs": [
    {
     "name": "stdout",
     "output_type": "stream",
     "text": [
      "['lettuce', 'tomatoes', 'spinach', 'mango', 'pears', 'grapes']\n",
      "['mango', 'grapes', 'steering_wheel']\n",
      "['lettuce', 'tomatoes', 'spinach', 'mango', 'pears', 'grapes', 'mango', 'pears', 'grapes', 'steering_wheel', 'green', 'blue', 'pink']\n"
     ]
    }
   ],
   "source": [
    "vegatables = [\"lettuce\", \"tomatoes\", \"spinach\"]\n",
    "#You cannot add a list to a set so the directions are confusing?\n",
    "fruit = [\"mango\", \"pears\", \"grapes\"]\n",
    "\n",
    "vegatables.extend(fruit)\n",
    "print(vegatables)\n",
    "\n",
    "\n",
    "fruit.extend([\"steering_wheel\"])\n",
    "\n",
    "colors = [\"green\", \"blue\", \"pink\"]\n",
    "\n",
    "new_list = vegatables + fruit + colors\n",
    "\n",
    "fruit.pop(1)\n",
    "print(fruit)\n",
    "\n",
    "vegatables.remove(\"lettuce\")\n",
    "print(new_list)\n"
   ]
  },
  {
   "cell_type": "code",
   "execution_count": 64,
   "metadata": {},
   "outputs": [
    {
     "name": "stdout",
     "output_type": "stream",
     "text": [
      "p\n",
      "keys in the dictionary: dict_keys(['b', 'g', 'p', 'r', 'y', 'blk', 'favorite numbers'])\n",
      "values in the dictionary: dict_values(['blue', 'green', 'merilyn', 'red', 'yellow', 'black', (3, 5, 6)])\n",
      "{'b': 'blue', 'g': 'green', 'p': 'merilyn', 'r': 'red', 'y': 'yellow', 'favorite numbers': (3, 5, 6)}\n"
     ]
    }
   ],
   "source": [
    "colorConversions = {\n",
    "    \"b\": \"blue\",\n",
    "    \"g\": \"green\",\n",
    "    \"p\": \"pink\",\n",
    "    \"r\": \"red\",\n",
    "    \"y\": \"yellow\",\n",
    "}\n",
    "print(\"p\")\n",
    "colorConversions[\"p\"] = \"merilyn\"\n",
    "colorConversions[\"blk\"] = \"black\"\n",
    "colorConversions[\"favorite numbers\"] = 3, 5, 6\n",
    "print(\"keys in the dictionary:\", colorConversions.keys() )\n",
    "print(\"values in the dictionary:\", colorConversions.values()) \n",
    "colorConversions2 = colorConversions.copy()\n",
    "colorConversions2.pop('blk')\n",
    "print(colorConversions2)\n",
    "\n",
    "\n"
   ]
  }
 ],
 "metadata": {
  "kernelspec": {
   "display_name": "Python 3",
   "language": "python",
   "name": "python3"
  },
  "language_info": {
   "codemirror_mode": {
    "name": "ipython",
    "version": 3
   },
   "file_extension": ".py",
   "mimetype": "text/x-python",
   "name": "python",
   "nbconvert_exporter": "python",
   "pygments_lexer": "ipython3",
   "version": "3.12.0"
  }
 },
 "nbformat": 4,
 "nbformat_minor": 2
}
